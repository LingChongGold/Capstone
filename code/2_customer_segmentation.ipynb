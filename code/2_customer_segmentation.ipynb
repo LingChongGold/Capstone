{
 "cells": [
  {
   "cell_type": "markdown",
   "metadata": {},
   "source": [
    "# Customer Segmentation"
   ]
  },
  {
   "cell_type": "markdown",
   "metadata": {},
   "source": [
    "In this notebook, we will perform customer segmentation"
   ]
  },
  {
   "cell_type": "markdown",
   "metadata": {},
   "source": [
    "# Load Data and Import Libraries"
   ]
  },
  {
   "cell_type": "code",
   "execution_count": null,
   "metadata": {},
   "outputs": [],
   "source": [
    "import pandas as pd\n",
    "import numpy as np\n",
    "import matplotlib.pyplot as plt\n",
    "import seaborn as sns\n",
    "\n",
    "from sklearn.preprocessing import StandardScaler\n",
    "from sklearn.decomposition import PCA\n",
    "from sklearn.cluster import KMeans, DBSCAN\n",
    "from sklearn.mixture import GaussianMixture\n",
    "from sklearn.neighbors import KNeighborsClassifier, NearestNeighbors\n",
    "from sklearn.model_selection import train_test_split, cross_val_score\n",
    "from sklearn.metrics import classification_report, confusion_matrix, silhouette_score\n",
    "from sklearn.naive_bayes import MultinomialNB, BernoulliNB\n",
    "from sklearn.tree import DecisionTreeClassifier"
   ]
  },
  {
   "cell_type": "code",
   "execution_count": null,
   "metadata": {},
   "outputs": [],
   "source": [
    "full_df = pd.read_csv('../dataset/cleaned/combined_cleansed.csv')"
   ]
  },
  {
   "cell_type": "code",
   "execution_count": null,
   "metadata": {},
   "outputs": [],
   "source": [
    "full_df.shape"
   ]
  },
  {
   "cell_type": "markdown",
   "metadata": {},
   "source": [
    "# Segment By Department"
   ]
  },
  {
   "cell_type": "code",
   "execution_count": null,
   "metadata": {
    "scrolled": true
   },
   "outputs": [],
   "source": [
    "dept_segment = pd.crosstab(full_df['user_id'], full_df['department'])"
   ]
  },
  {
   "cell_type": "code",
   "execution_count": null,
   "metadata": {},
   "outputs": [],
   "source": [
    "def find_optimum_clusters(df):\n",
    "    wcss = []\n",
    "    num_clusters = []\n",
    "    sc = StandardScaler()\n",
    "    X_sc = sc.fit_transform(df)\n",
    "    \n",
    "    for k in range(2, 11):\n",
    "        print('Running {} Clusters...'.format(k))\n",
    "        km = KMeans(n_clusters=k)\n",
    "        km.fit(df)\n",
    "        wcss.append(km.inertia_)\n",
    "        num_clusters.append(k)\n",
    "\n",
    "    fig, ax = plt.subplots(figsize=(7, 7))\n",
    "    ax.plot(range(2, 11), wcss, 'bs-', markerfacecolor = 'red', markeredgecolor = 'red')\n",
    "    ax.set_ylabel('Inertia', fontsize = 20)\n",
    "    ax.set_xlabel('Number of Clusters', fontsize = 20)\n",
    "    ax.set_title('Inertia over number of Clusters', fontsize = 20)\n",
    "    start, end = ax.get_xlim()\n",
    "    ax.set_xticks(np.arange(start + 0.4, end + 0.4 , 1))"
   ]
  },
  {
   "cell_type": "code",
   "execution_count": null,
   "metadata": {},
   "outputs": [],
   "source": [
    "find_optimum_clusters(dept_segment)"
   ]
  },
  {
   "cell_type": "markdown",
   "metadata": {},
   "source": [
    "3, 4 and 5 seems like the best"
   ]
  },
  {
   "cell_type": "raw",
   "metadata": {},
   "source": [
    "def kmeans_fit_and_visualise(df, x, y, num_cluster):\n",
    "    df = df.copy()\n",
    "    sc = StandardScaler()\n",
    "    X_sc = sc.fit_transform(df)\n",
    "    km = KMeans(n_clusters = num_cluster, tol = 0.0001, max_iter = 300, random_state=42)\n",
    "    km.fit(X_sc)\n",
    "    km.predict(X_sc)\n",
    "    \n",
    "    df = pd.DataFrame(X_sc, columns = df.columns)\n",
    "    df['cluster'] = km.labels_\n",
    "    \n",
    "    plt.figure(figsize=(7,7))\n",
    "    colors = [\"red\", \"green\", \"blue\", 'orange', 'black', 'yellow', 'brown', 'purple', 'grey', 'coral']\n",
    "    df['color'] = df['cluster'].map(lambda p: colors[p])\n",
    "    ax = df.plot(kind =\"scatter\", x = x, y = y, c = df['color'])"
   ]
  },
  {
   "cell_type": "code",
   "execution_count": null,
   "metadata": {},
   "outputs": [],
   "source": [
    "def kmeans_fit_and_visualise(df, x, y, num_cluster):\n",
    "    df = df.copy()\n",
    "    sc = StandardScaler()\n",
    "    X_sc = sc.fit_transform(df)\n",
    "    km = KMeans(n_clusters = num_cluster, tol = 0.0001, max_iter = 1000, n_init = 20)\n",
    "    km.fit(X_sc)\n",
    "    km.predict(X_sc)\n",
    "    \n",
    "    df = pd.DataFrame(X_sc, columns = df.columns)\n",
    "    df['cluster'] = km.labels_\n",
    "    \n",
    "    plt.figure(figsize=(7,7))\n",
    "    colors = [\"red\", \"green\", \"blue\", 'orange', 'black', 'yellow', 'brown', 'purple', 'grey', 'coral']\n",
    "    df['color'] = df['cluster'].map(lambda p: colors[p])\n",
    "    ax = df.plot(kind =\"scatter\", x = x, y = y, c = df['color'])"
   ]
  },
  {
   "cell_type": "code",
   "execution_count": null,
   "metadata": {},
   "outputs": [],
   "source": [
    "kmeans_fit_and_visualise(dept_segment, 'pantry', 'dairy eggs', 3)"
   ]
  },
  {
   "cell_type": "code",
   "execution_count": null,
   "metadata": {},
   "outputs": [],
   "source": [
    "kmeans_fit_and_visualise(dept_segment, 'pantry', 'dairy eggs', 4)"
   ]
  },
  {
   "cell_type": "code",
   "execution_count": null,
   "metadata": {},
   "outputs": [],
   "source": [
    "kmeans_fit_and_visualise(dept_segment, 'pantry', 'dairy eggs', 5)"
   ]
  },
  {
   "cell_type": "raw",
   "metadata": {},
   "source": [
    "kmeans_fit_and_visualise(dept_segment, 'pantry', 'dairy eggs', 6)"
   ]
  },
  {
   "cell_type": "raw",
   "metadata": {},
   "source": [
    "kmeans_fit_and_visualise(dept_segment, 'pantry', 'dairy eggs', 7)"
   ]
  },
  {
   "cell_type": "raw",
   "metadata": {},
   "source": [
    "kmeans_fit_and_visualise(dept_segment, 'pantry', 'dairy eggs', 8)"
   ]
  },
  {
   "cell_type": "markdown",
   "metadata": {},
   "source": [
    "## With PCA"
   ]
  },
  {
   "cell_type": "code",
   "execution_count": null,
   "metadata": {
    "scrolled": true
   },
   "outputs": [],
   "source": [
    "pca = PCA(n_components = 4)\n",
    "dept_segment_pca = pca.fit_transform(dept_segment)\n",
    "dept_segment_pca = pd.DataFrame(dept_segment_pca)"
   ]
  },
  {
   "cell_type": "code",
   "execution_count": null,
   "metadata": {},
   "outputs": [],
   "source": [
    "var_exp = pca.explained_variance_ratio_\n",
    "cum_var_exp = np.cumsum(var_exp)\n",
    "print('Cumulative explained variance: {}'.format(np.round(cum_var_exp,3)))\n",
    "\n",
    "# 4 PCAs already explained 91% of the variances"
   ]
  },
  {
   "cell_type": "code",
   "execution_count": null,
   "metadata": {},
   "outputs": [],
   "source": [
    "find_optimum_clusters(dept_segment_pca)"
   ]
  },
  {
   "cell_type": "markdown",
   "metadata": {},
   "source": [
    "3, 4, 5 seems the best"
   ]
  },
  {
   "cell_type": "code",
   "execution_count": null,
   "metadata": {},
   "outputs": [],
   "source": [
    "kmeans_fit_and_visualise(dept_segment_pca, 0, 3, 3)"
   ]
  },
  {
   "cell_type": "code",
   "execution_count": null,
   "metadata": {},
   "outputs": [],
   "source": [
    "kmeans_fit_and_visualise(dept_segment_pca, 0, 3, 4)"
   ]
  },
  {
   "cell_type": "code",
   "execution_count": null,
   "metadata": {},
   "outputs": [],
   "source": [
    "kmeans_fit_and_visualise(dept_segment_pca, 0, 3, 5)"
   ]
  },
  {
   "cell_type": "raw",
   "metadata": {},
   "source": [
    "kmeans_fit_and_visualise(dept_segment_pca, 0, 5, 6)"
   ]
  },
  {
   "cell_type": "markdown",
   "metadata": {},
   "source": [
    "kmeans_fit_and_visualise(dept_segment_pca, 0, 5, 7)"
   ]
  },
  {
   "cell_type": "raw",
   "metadata": {},
   "source": [
    "kmeans_fit_and_visualise(dept_segment_pca, 0, 5, 8)"
   ]
  },
  {
   "cell_type": "raw",
   "metadata": {},
   "source": [
    "dbscan_fit_and_visualise(dept_segment)"
   ]
  },
  {
   "cell_type": "markdown",
   "metadata": {},
   "source": [
    "# Segment By Aisle"
   ]
  },
  {
   "cell_type": "code",
   "execution_count": null,
   "metadata": {
    "scrolled": true
   },
   "outputs": [],
   "source": [
    "aisle_segment = pd.crosstab(full_df['user_id'], full_df['aisle'])"
   ]
  },
  {
   "cell_type": "code",
   "execution_count": null,
   "metadata": {},
   "outputs": [],
   "source": [
    "find_optimum_clusters(aisle_segment)"
   ]
  },
  {
   "cell_type": "markdown",
   "metadata": {},
   "source": [
    "3, 4, 5 is the best"
   ]
  },
  {
   "cell_type": "code",
   "execution_count": null,
   "metadata": {},
   "outputs": [],
   "source": [
    "kmeans_fit_and_visualise(aisle_segment, 'fresh fruits', 'instant foods', 3)"
   ]
  },
  {
   "cell_type": "code",
   "execution_count": null,
   "metadata": {},
   "outputs": [],
   "source": [
    "kmeans_fit_and_visualise(aisle_segment, 'fresh fruits', 'instant foods', 4)"
   ]
  },
  {
   "cell_type": "code",
   "execution_count": null,
   "metadata": {},
   "outputs": [],
   "source": [
    "kmeans_fit_and_visualise(aisle_segment, 'fresh fruits', 'instant foods', 5)"
   ]
  },
  {
   "cell_type": "raw",
   "metadata": {},
   "source": [
    "kmeans_fit_and_visualise(aisle_segment, 'fresh fruits', 'instant foods', 6)"
   ]
  },
  {
   "cell_type": "raw",
   "metadata": {},
   "source": [
    "kmeans_fit_and_visualise(aisle_segment, 'fresh fruits', 'instant foods', 7)"
   ]
  },
  {
   "cell_type": "raw",
   "metadata": {},
   "source": [
    "kmeans_fit_and_visualise(aisle_segment, 'fresh fruits', 'instant foods', 8)"
   ]
  },
  {
   "cell_type": "markdown",
   "metadata": {},
   "source": [
    "## With PCA"
   ]
  },
  {
   "cell_type": "code",
   "execution_count": null,
   "metadata": {},
   "outputs": [],
   "source": [
    "pca = PCA(n_components = 11)\n",
    "aisle_segment_pca = pca.fit_transform(aisle_segment)\n",
    "aisle_segment_pca = pd.DataFrame(aisle_segment_pca)\n",
    "var_exp = pca.explained_variance_ratio_\n",
    "cum_var_exp = np.cumsum(var_exp)\n",
    "print('Cumulative explained variance: {}'.format(np.round(cum_var_exp,3)))\n",
    "\n",
    "# 11 components can explain 80% of the variance"
   ]
  },
  {
   "cell_type": "markdown",
   "metadata": {},
   "source": [
    "__previously was using 7__"
   ]
  },
  {
   "cell_type": "code",
   "execution_count": null,
   "metadata": {},
   "outputs": [],
   "source": [
    "find_optimum_clusters(aisle_segment_pca)"
   ]
  },
  {
   "cell_type": "markdown",
   "metadata": {},
   "source": [
    "3, 4, 5 the best"
   ]
  },
  {
   "cell_type": "code",
   "execution_count": null,
   "metadata": {},
   "outputs": [],
   "source": [
    "kmeans_fit_and_visualise(aisle_segment_pca, 0, 4, 3)"
   ]
  },
  {
   "cell_type": "code",
   "execution_count": null,
   "metadata": {},
   "outputs": [],
   "source": [
    "kmeans_fit_and_visualise(aisle_segment_pca, 0, 4, 4)"
   ]
  },
  {
   "cell_type": "code",
   "execution_count": null,
   "metadata": {},
   "outputs": [],
   "source": [
    "kmeans_fit_and_visualise(aisle_segment_pca, 0, 4, 5)"
   ]
  },
  {
   "cell_type": "code",
   "execution_count": null,
   "metadata": {},
   "outputs": [],
   "source": [
    "aisle_segment.head()"
   ]
  },
  {
   "cell_type": "raw",
   "metadata": {},
   "source": [
    "for i in range (0, 10):\n",
    "    for j in range(i + 1, 10):\n",
    "        print(i, j)\n",
    "        kmeans_fit_and_visualise(aisle_segment_pca, i, j, 3)\n",
    "        print('')"
   ]
  },
  {
   "cell_type": "markdown",
   "metadata": {},
   "source": [
    "## DB SCAN"
   ]
  },
  {
   "cell_type": "code",
   "execution_count": null,
   "metadata": {},
   "outputs": [],
   "source": [
    "def dbscan_fit_and_visualise(df, x, y, filename, eps):\n",
    "    df = df.copy()\n",
    "    sc = StandardScaler()\n",
    "    X_sc = sc.fit_transform(df)\n",
    "    dbscan = DBSCAN(eps=eps)\n",
    "    dbscan.fit(X_sc)\n",
    "    df['cluster'] = dbscan.labels_\n",
    "    print(set(dbscan.labels_))\n",
    "    print(silhouette_score(X_sc, dbscan.labels_))\n",
    "\n",
    "    plt.figure(figsize=(7,7))\n",
    "    colors = [\"red\", \"green\", \"blue\", 'orange', 'brown', 'yellow', 'black', 'purple']\n",
    "    df['color'] = df['cluster'].map(lambda p: colors[p])\n",
    "    ax = df.plot(    \n",
    "    kind=\"scatter\", \n",
    "    x=x, y=y,\n",
    "    figsize=(10,8),\n",
    "    c = df['color'])\n",
    "    plt.savefig('../plots/{}.png'.format(filename))\n",
    "    \n",
    "    return df "
   ]
  },
  {
   "cell_type": "code",
   "execution_count": null,
   "metadata": {},
   "outputs": [],
   "source": [
    "# determine the best epsilon\n",
    "\n",
    "neigh = NearestNeighbors(n_neighbors=2)\n",
    "sc = StandardScaler()\n",
    "ccc = sc.fit_transform(aisle_segment_pca)\n",
    "nbrs = neigh.fit(ccc)\n",
    "distances, indices = nbrs.kneighbors(ccc)\n",
    "distances = np.sort(distances, axis=0)\n",
    "distances = distances[:,1]\n",
    "plt.plot(distances)"
   ]
  },
  {
   "cell_type": "code",
   "execution_count": null,
   "metadata": {},
   "outputs": [],
   "source": [
    "zzz = aisle_segment_pca[:50000]"
   ]
  },
  {
   "cell_type": "code",
   "execution_count": null,
   "metadata": {},
   "outputs": [],
   "source": [
    "db_scan_aisle_pca = dbscan_fit_and_visualise(zzz, 0, 4, 'dbscan_with_pca', 3.5)"
   ]
  },
  {
   "cell_type": "code",
   "execution_count": null,
   "metadata": {},
   "outputs": [],
   "source": [
    "neigh = NearestNeighbors(n_neighbors=2)\n",
    "sc = StandardScaler()\n",
    "ddd = sc.fit_transform(aisle_segment)\n",
    "nbrs = neigh.fit(ddd)\n",
    "distances, indices = nbrs.kneighbors(ddd)\n",
    "distances = np.sort(distances, axis=0)\n",
    "distances = distances[:,1]\n",
    "plt.plot(distances)"
   ]
  },
  {
   "cell_type": "code",
   "execution_count": null,
   "metadata": {},
   "outputs": [],
   "source": [
    "db_scan_aisle_no_pca = dbscan_fit_and_visualise(aaa, 'fresh vegetables', 'instant foods', 'dbscan_without_pca', 100)"
   ]
  },
  {
   "cell_type": "markdown",
   "metadata": {},
   "source": [
    "## Product Segmentation"
   ]
  },
  {
   "cell_type": "raw",
   "metadata": {},
   "source": [
    "aisle_by_cust_segment = pd.crosstab(full_df['aisle'], full_df['user_id'])\n",
    "aisle_by_cust_segment.head()"
   ]
  },
  {
   "cell_type": "raw",
   "metadata": {},
   "source": [
    "find_optimum_clusters(aisle_by_cust_segment)"
   ]
  },
  {
   "cell_type": "raw",
   "metadata": {},
   "source": [
    "kmeans_fit_and_visualise(aisle_by_cust_segment, 210, 205972, 3)"
   ]
  },
  {
   "cell_type": "raw",
   "metadata": {},
   "source": [
    "kmeans_fit_and_visualise(aisle_by_cust_segment, 1, 206209, 10)"
   ]
  },
  {
   "cell_type": "raw",
   "metadata": {},
   "source": [
    "kmeans_fit_and_visualise(aisle_by_cust_segment, 1, 206209, 11)"
   ]
  },
  {
   "cell_type": "markdown",
   "metadata": {},
   "source": [
    "## Testing"
   ]
  },
  {
   "cell_type": "raw",
   "metadata": {},
   "source": [
    "def test(df, x, y, num_cluster):\n",
    "    df = df.copy()\n",
    "    sc = StandardScaler()\n",
    "    X_sc = sc.fit_transform(df)\n",
    "    gmm = GaussianMixture(n_components = num_cluster) \n",
    "    gmm.fit(X_sc) \n",
    "#     X_sc = sc.fit_transform(df)\n",
    "#     km = KMeans(n_clusters = num_cluster, tol = 0.0001, max_iter = 300, random_state=42)\n",
    "#     ms.fit(X_sc)\n",
    "    labels = gmm.predict(X_sc)\n",
    "    \n",
    "    df = pd.DataFrame(X_sc, columns = df.columns)\n",
    "    df['cluster'] = labels\n",
    "    \n",
    "    plt.figure(figsize=(7,7))\n",
    "    colors = [\"red\", \"green\", \"blue\", 'orange', 'black', 'yellow', 'brown', 'purple', 'grey', 'coral']\n",
    "    df['color'] = df['cluster'].map(lambda p: colors[p])\n",
    "    ax = df.plot(kind =\"scatter\", x = x, y = y, c = df['color'])"
   ]
  },
  {
   "cell_type": "raw",
   "metadata": {},
   "source": [
    "test(g, 0, 5, 2)"
   ]
  },
  {
   "cell_type": "raw",
   "metadata": {},
   "source": [
    "test(g, 0, 5, 3)"
   ]
  },
  {
   "cell_type": "raw",
   "metadata": {},
   "source": [
    "test(g, 0, 5, 4) "
   ]
  },
  {
   "cell_type": "raw",
   "metadata": {},
   "source": [
    "test(g, 0, 5, 5) "
   ]
  },
  {
   "cell_type": "raw",
   "metadata": {},
   "source": [
    "test(g, 0, 5, 6) "
   ]
  },
  {
   "cell_type": "raw",
   "metadata": {
    "scrolled": false
   },
   "source": [
    "test(g, 0, 5, 7) "
   ]
  },
  {
   "cell_type": "code",
   "execution_count": null,
   "metadata": {},
   "outputs": [],
   "source": []
  },
  {
   "cell_type": "markdown",
   "metadata": {},
   "source": [
    "## Test Visualisation"
   ]
  },
  {
   "cell_type": "raw",
   "metadata": {},
   "source": [
    "test(g, 0, 1, 4) "
   ]
  },
  {
   "cell_type": "raw",
   "metadata": {},
   "source": [
    "test(g, 0, 2, 4) "
   ]
  },
  {
   "cell_type": "raw",
   "metadata": {},
   "source": [
    "test(g, 0, 3, 4) "
   ]
  },
  {
   "cell_type": "raw",
   "metadata": {},
   "source": [
    "test(g, 0, 4, 4) "
   ]
  },
  {
   "cell_type": "raw",
   "metadata": {},
   "source": [
    "test(g, 0, 5, 4) "
   ]
  },
  {
   "cell_type": "raw",
   "metadata": {},
   "source": [
    "test(g, 0, 6, 4) "
   ]
  },
  {
   "cell_type": "raw",
   "metadata": {},
   "source": [
    "test(g, 1, 2, 4) "
   ]
  },
  {
   "cell_type": "raw",
   "metadata": {},
   "source": [
    "test(g, 1, 3, 4) "
   ]
  },
  {
   "cell_type": "raw",
   "metadata": {},
   "source": [
    "test(g, 1, 4, 4)"
   ]
  },
  {
   "cell_type": "raw",
   "metadata": {},
   "source": [
    "test(g, 1, 5, 4)"
   ]
  },
  {
   "cell_type": "raw",
   "metadata": {},
   "source": [
    "test(g, 1, 6, 4)"
   ]
  },
  {
   "cell_type": "raw",
   "metadata": {},
   "source": [
    "test(g, 2, 3, 4)"
   ]
  },
  {
   "cell_type": "raw",
   "metadata": {},
   "source": [
    "test(g, 2, 4, 4)"
   ]
  },
  {
   "cell_type": "raw",
   "metadata": {},
   "source": [
    "test(g, 2, 5, 4)"
   ]
  },
  {
   "cell_type": "raw",
   "metadata": {},
   "source": [
    "test(g, 2, 6, 4)"
   ]
  },
  {
   "cell_type": "raw",
   "metadata": {},
   "source": [
    "test(g, 3, 4, 4)"
   ]
  },
  {
   "cell_type": "raw",
   "metadata": {},
   "source": [
    "test(g, 3, 5, 4)"
   ]
  },
  {
   "cell_type": "raw",
   "metadata": {},
   "source": [
    "test(g, 3, 6, 4)"
   ]
  },
  {
   "cell_type": "raw",
   "metadata": {},
   "source": [
    "test(g, 4, 5, 4)"
   ]
  },
  {
   "cell_type": "raw",
   "metadata": {},
   "source": [
    "test(g, 4, 6, 4)"
   ]
  },
  {
   "cell_type": "raw",
   "metadata": {},
   "source": [
    "test(g, 5, 6, 4)"
   ]
  },
  {
   "cell_type": "code",
   "execution_count": null,
   "metadata": {},
   "outputs": [],
   "source": []
  },
  {
   "cell_type": "code",
   "execution_count": null,
   "metadata": {},
   "outputs": [],
   "source": []
  },
  {
   "cell_type": "raw",
   "metadata": {},
   "source": [
    "ms = MeanShift() \n",
    "ms.fit(f) \n",
    "cluster_centers = ms.cluster_centers_ \n",
    "   \n",
    "# Finally We plot the data points \n",
    "# and centroids in a 3D graph. \n",
    "fig = plt.figure() \n",
    "  \n",
    "ax = fig.add_subplot(111, projection ='3d') \n",
    "  \n",
    "ax.scatter(X[:, 0], X[:, 1], X[:, 2], marker ='o') \n",
    "  \n",
    "ax.scatter(cluster_centers[:, 0], cluster_centers[:, 1], \n",
    "           cluster_centers[:, 2], marker ='x', color ='red', \n",
    "           s = 300, linewidth = 5, zorder = 10) \n",
    "  \n",
    "plt.show()"
   ]
  },
  {
   "cell_type": "markdown",
   "metadata": {},
   "source": [
    "# Segment By Product"
   ]
  },
  {
   "cell_type": "raw",
   "metadata": {},
   "source": [
    "full_df.shape"
   ]
  },
  {
   "cell_type": "raw",
   "metadata": {},
   "source": [
    "test = full_df[:500000]"
   ]
  },
  {
   "cell_type": "raw",
   "metadata": {},
   "source": [
    "test.shape"
   ]
  },
  {
   "cell_type": "raw",
   "metadata": {},
   "source": [
    "product_segment = pd.crosstab(test['user_id'], test['product_name'])\n",
    "product_segment.head()"
   ]
  },
  {
   "cell_type": "code",
   "execution_count": null,
   "metadata": {},
   "outputs": [],
   "source": []
  },
  {
   "cell_type": "markdown",
   "metadata": {},
   "source": [
    "# Segment By Recency"
   ]
  },
  {
   "cell_type": "code",
   "execution_count": null,
   "metadata": {},
   "outputs": [],
   "source": []
  },
  {
   "cell_type": "code",
   "execution_count": null,
   "metadata": {},
   "outputs": [],
   "source": []
  },
  {
   "cell_type": "markdown",
   "metadata": {},
   "source": [
    "# Segment By Frequency"
   ]
  },
  {
   "cell_type": "code",
   "execution_count": null,
   "metadata": {},
   "outputs": [],
   "source": []
  },
  {
   "cell_type": "code",
   "execution_count": null,
   "metadata": {},
   "outputs": [],
   "source": []
  },
  {
   "cell_type": "markdown",
   "metadata": {},
   "source": [
    "# Segment By Monetary - No Price"
   ]
  },
  {
   "cell_type": "code",
   "execution_count": null,
   "metadata": {},
   "outputs": [],
   "source": []
  },
  {
   "cell_type": "code",
   "execution_count": null,
   "metadata": {},
   "outputs": [],
   "source": []
  }
 ],
 "metadata": {
  "kernelspec": {
   "display_name": "Python 3",
   "language": "python",
   "name": "python3"
  },
  "language_info": {
   "codemirror_mode": {
    "name": "ipython",
    "version": 3
   },
   "file_extension": ".py",
   "mimetype": "text/x-python",
   "name": "python",
   "nbconvert_exporter": "python",
   "pygments_lexer": "ipython3",
   "version": "3.7.3"
  }
 },
 "nbformat": 4,
 "nbformat_minor": 2
}
