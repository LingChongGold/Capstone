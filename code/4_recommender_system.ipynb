{
 "cells": [
  {
   "cell_type": "code",
   "execution_count": 1,
   "metadata": {},
   "outputs": [],
   "source": [
    "import pandas as pd\n",
    "import numpy as np\n",
    "import matplotlib.pyplot as plt\n",
    "import seaborn as sns\n",
    "import scipy.sparse as sparse\n",
    "from sklearn.preprocessing import MaxAbsScaler, RobustScaler, StandardScaler\n",
    "import random\n",
    "import implicit\n",
    "from scipy.sparse.linalg import spsolve\n",
    "from pandas.api.types import CategoricalDtype\n"
   ]
  },
  {
   "cell_type": "code",
   "execution_count": 2,
   "metadata": {},
   "outputs": [],
   "source": [
    "full_df = pd.read_csv('../dataset/cleaned/combined_cleansed.csv')"
   ]
  },
  {
   "cell_type": "markdown",
   "metadata": {},
   "source": [
    "## Collaborative Filtering"
   ]
  },
  {
   "cell_type": "code",
   "execution_count": 3,
   "metadata": {},
   "outputs": [],
   "source": [
    "collaborative_df = full_df.groupby(['user_id', 'product_name', 'product_id'])['product_id'].agg('count').to_frame('purchase_count').reset_index()"
   ]
  },
  {
   "cell_type": "code",
   "execution_count": 4,
   "metadata": {},
   "outputs": [],
   "source": [
    "# get a list of unique users\n",
    "users = list(np.sort(collaborative_df['user_id'].unique()))\n",
    "# get a list of unique products\n",
    "products = list(collaborative_df['product_id'].unique())\n",
    "# get a list of purchase count\n",
    "purchase_count = list(collaborative_df['purchase_count'])\n",
    "\n",
    "# get the row indices\n",
    "cols = collaborative_df['user_id'].astype('category', CategoricalDtype(categories = users)).cat.codes\n",
    "# get the column indices\n",
    "rows = collaborative_df['product_id'].astype('category', CategoricalDtype(categories = products)).cat.codes\n",
    "\n",
    "collaborative_sparse = sparse.csr_matrix((purchase_count, (rows, cols)), shape = (len(products), len(users)))\n",
    "\n",
    "# purchases_sparse = sparse.csr_matrix((quantity, (rows, cols)), shape=(len(customers), len(products)))"
   ]
  },
  {
   "cell_type": "code",
   "execution_count": 5,
   "metadata": {},
   "outputs": [
    {
     "data": {
      "text/plain": [
       "<48422x206209 sparse matrix of type '<class 'numpy.int32'>'\n",
       "\twith 13266179 stored elements in Compressed Sparse Row format>"
      ]
     },
     "execution_count": 5,
     "metadata": {},
     "output_type": "execute_result"
    }
   ],
   "source": [
    "collaborative_sparse"
   ]
  },
  {
   "cell_type": "markdown",
   "metadata": {},
   "source": [
    "We have 206209 customers with 48422 items. lets check our sparcity"
   ]
  },
  {
   "cell_type": "markdown",
   "metadata": {},
   "source": [
    "## Scaling"
   ]
  },
  {
   "cell_type": "code",
   "execution_count": 6,
   "metadata": {},
   "outputs": [],
   "source": [
    "mas = MaxAbsScaler()\n",
    "collaborative_sparse = mas.fit_transform(collaborative_sparse)"
   ]
  },
  {
   "cell_type": "markdown",
   "metadata": {},
   "source": [
    "Centering sparse data would destroy the sparseness structure in the data, and thus rarely is a sensible thing to do. However, it can make sense to scale sparse inputs, especially if features are on different scales.\n",
    "\n",
    "MaxAbsScaler and maxabs_scale were specifically designed for scaling sparse data, and are the recommended way to go about this"
   ]
  },
  {
   "cell_type": "code",
   "execution_count": 7,
   "metadata": {},
   "outputs": [
    {
     "name": "stdout",
     "output_type": "stream",
     "text": [
      "Sparcity is 99.86713961292403\n"
     ]
    }
   ],
   "source": [
    "# get the number of possible interactions\n",
    "matrix_size = collaborative_sparse.shape[0] * collaborative_sparse.shape[1]\n",
    "\n",
    "# number of actual interactions\n",
    "purchase_num = len(collaborative_sparse.nonzero()[0])\n",
    "print('Sparcity is {}'.format(100*(1-(purchase_num/matrix_size))))"
   ]
  },
  {
   "cell_type": "markdown",
   "metadata": {},
   "source": [
    "for this to work we the maximum sparcity should be about 99.5% we are 0.3% above it, this may affect our result"
   ]
  },
  {
   "cell_type": "markdown",
   "metadata": {},
   "source": [
    "## Alternating Least Squares"
   ]
  },
  {
   "cell_type": "code",
   "execution_count": 8,
   "metadata": {},
   "outputs": [
    {
     "name": "stderr",
     "output_type": "stream",
     "text": [
      "WARNING:root:OpenBLAS detected. Its highly recommend to set the environment variable 'export OPENBLAS_NUM_THREADS=1' to disable its internal multithreading\n"
     ]
    },
    {
     "data": {
      "application/vnd.jupyter.widget-view+json": {
       "model_id": "4379526c554b40e0b9c9763b9e23cbd9",
       "version_major": 2,
       "version_minor": 0
      },
      "text/plain": [
       "HBox(children=(IntProgress(value=0, max=30), HTML(value='')))"
      ]
     },
     "metadata": {},
     "output_type": "display_data"
    },
    {
     "name": "stdout",
     "output_type": "stream",
     "text": [
      "\n"
     ]
    }
   ],
   "source": [
    "model = implicit.als.AlternatingLeastSquares(factors=100, regularization=0.01, iterations=30)\n",
    "alpha_val = 80\n",
    "data_conf = (collaborative_sparse * alpha_val).astype('double')\n",
    "model.fit(data_conf)\n",
    "user_items = data_conf.T.tocsr()"
   ]
  },
  {
   "cell_type": "code",
   "execution_count": 9,
   "metadata": {},
   "outputs": [],
   "source": [
    "def get_recommendations(df, model, fitted, user):\n",
    "    recommendations = model.recommend(user, fitted, filter_already_liked_items = True)\n",
    "    product_dict = dict(zip(df.product_id, df.product_name))\n",
    "    \n",
    "    print('Recommended items for user {} are: \\n'.format(user))\n",
    "    for i in recommendations:\n",
    "        print(i[0], product_dict.get(i[0]))"
   ]
  },
  {
   "cell_type": "code",
   "execution_count": 10,
   "metadata": {},
   "outputs": [
    {
     "name": "stdout",
     "output_type": "stream",
     "text": [
      "Recommended items for user 1 are: \n",
      "\n",
      "13517 Whole Wheat Bread\n",
      "25173 Glucosamine + Chondroitin\n",
      "20493 All Natural Chocolate Hemp\n",
      "45715 Veggie & Fruit Pops, Meteorite Mango\n",
      "41186 Brussels Sprouts, Petite\n",
      "27492 Homestyle Mayonnaise\n",
      "26853 Complete Wheat 100% Whole Wheat Bread\n",
      "24217 Golden Oat Breakfast Biscuits\n",
      "32943 Soybeans in Pods Edamame\n",
      "13035 Fun Size Candy Snack 6 Count\n"
     ]
    }
   ],
   "source": [
    "get_recommendations(collaborative_df, model, user_items, 1)"
   ]
  },
  {
   "cell_type": "code",
   "execution_count": 11,
   "metadata": {},
   "outputs": [
    {
     "name": "stdout",
     "output_type": "stream",
     "text": [
      "Recommended items for user 8 are: \n",
      "\n",
      "36230 Tofu Ravioli Verde\n",
      "5421 Peach 0% Fat Oikos Greek Yogurt\n",
      "43623 Shaved Blend Parmesian Cheese\n",
      "21471 Salisbury Steak Dinner\n",
      "36528 Organic Brown Rice Lasagne Pasta\n",
      "44470 Backyard Variety Hard Strawberry Lemonade Hard Lemonade Hard Cranberry & Passion Fruit Lemonade Hard Tropical Mango Lemonade\n",
      "44878 Ndimaini\n",
      "45400 Multi-Surface Sunflower Scent Everyday Cleaner\n",
      "426 2nd Foods Bananas\n",
      "38288 Pizza Sauce\n"
     ]
    }
   ],
   "source": [
    "get_recommendations(collaborative_df, model, user_items, 8)"
   ]
  },
  {
   "cell_type": "markdown",
   "metadata": {},
   "source": [
    "## Bayesian Personalized Ranking"
   ]
  },
  {
   "cell_type": "code",
   "execution_count": 12,
   "metadata": {},
   "outputs": [
    {
     "data": {
      "application/vnd.jupyter.widget-view+json": {
       "model_id": "988262fdc0b74f76bab376e781623724",
       "version_major": 2,
       "version_minor": 0
      },
      "text/plain": [
       "HBox(children=(IntProgress(value=0, max=30), HTML(value='')))"
      ]
     },
     "metadata": {},
     "output_type": "display_data"
    },
    {
     "name": "stdout",
     "output_type": "stream",
     "text": [
      "\n"
     ]
    }
   ],
   "source": [
    "model2 = implicit.bpr.BayesianPersonalizedRanking(factors=100, regularization=0.01, iterations=30)\n",
    "alpha_val = 80\n",
    "data_conf2 = (collaborative_sparse * alpha_val).astype('double')\n",
    "model2.fit(data_conf2)\n",
    "user_items2 = data_conf2.T.tocsr()"
   ]
  },
  {
   "cell_type": "code",
   "execution_count": 13,
   "metadata": {},
   "outputs": [
    {
     "name": "stdout",
     "output_type": "stream",
     "text": [
      "Recommended items for user 1 are: \n",
      "\n",
      "18441 Organic Ketchup\n",
      "1685 Clean Care 1-Ply Double Rolls Toilet Paper\n",
      "1427 Berries GoMega Smoothie Blend\n",
      "17276 Honey Chipotle Salmon\n",
      "12921 Cream Style Corn Golden Sweet\n",
      "32533 Original BBQ Baby Back Pork Ribs\n",
      "45888 Homestyle Thick & Hearty Traditional Pasta Sauce\n",
      "35945 L.A. Natural Styling Gel\n",
      "27745 Radiant Super Unscented Tampons\n",
      "10571 Seasoning Adobo Seasoning\n"
     ]
    }
   ],
   "source": [
    "get_recommendations(collaborative_df, model2, user_items2, 1)"
   ]
  },
  {
   "cell_type": "code",
   "execution_count": 14,
   "metadata": {},
   "outputs": [
    {
     "name": "stdout",
     "output_type": "stream",
     "text": [
      "Recommended items for user 8 are: \n",
      "\n",
      "32004 Pasta Sauce, Marinara\n",
      "15925 Macaroni and Cheese\n",
      "921 Black Salt Caramel Dark Chocolate Bar\n",
      "45799 Real Bacon Pieces 50% Less Fat\n",
      "10663 Advanced Enzyme System Rapid Release Formula\n",
      "17706 Organic Whole Grain Wheat English Muffins\n",
      "41993 Cough+Chest Congestion Dm Non Drowsy Syrup\n",
      "38567 Hearty French Country Vegetable Soup\n",
      "40729 Apple Slice Scented Soy Candle\n",
      "32833 Plain Nonfat Yogurt\n"
     ]
    }
   ],
   "source": [
    "get_recommendations(collaborative_df, model2, user_items2, 8)"
   ]
  },
  {
   "cell_type": "markdown",
   "metadata": {},
   "source": [
    "## Logistic Matrix Factorization"
   ]
  },
  {
   "cell_type": "code",
   "execution_count": 15,
   "metadata": {},
   "outputs": [
    {
     "data": {
      "application/vnd.jupyter.widget-view+json": {
       "model_id": "dae217c66c0f4a91842751ad9c3d844a",
       "version_major": 2,
       "version_minor": 0
      },
      "text/plain": [
       "HBox(children=(IntProgress(value=0, max=30), HTML(value='')))"
      ]
     },
     "metadata": {},
     "output_type": "display_data"
    },
    {
     "name": "stdout",
     "output_type": "stream",
     "text": [
      "\n"
     ]
    }
   ],
   "source": [
    "model3 = implicit.lmf.LogisticMatrixFactorization(factors=100, learning_rate = 0.1, regularization=0.01, iterations=30)\n",
    "alpha_val = 80\n",
    "data_conf3 = (collaborative_sparse * alpha_val).astype('double')\n",
    "model3.fit(data_conf3)\n",
    "user_items3 = data_conf3.T.tocsr()"
   ]
  },
  {
   "cell_type": "code",
   "execution_count": 16,
   "metadata": {},
   "outputs": [
    {
     "name": "stdout",
     "output_type": "stream",
     "text": [
      "Recommended items for user 1 are: \n",
      "\n",
      "42991 Kat Kit Disposable Tray\n",
      "16894 Full Bodied Flavor Extra Virgin Organic Olive Oil\n",
      "34709 Concentrated Deep Reach Fogger Insecticide\n",
      "44644 Lotion with Aloe & Lanolin Hair Remover\n",
      "46717 40 Flavors Jelly Beans\n",
      "17412 Mini Lemon Bites\n",
      "10061 Meatloaf with Portobello Mushroom Gravy\n",
      "8747 Bathroom Cleaner with Lemon Scent\n",
      "43121 Gourmet Natural Original Magic Seasoning\n",
      "18837 24 hour Allergy Relief Gelcaps for Adults\n"
     ]
    }
   ],
   "source": [
    "get_recommendations(collaborative_df, model3, user_items3, 1)"
   ]
  },
  {
   "cell_type": "code",
   "execution_count": 17,
   "metadata": {},
   "outputs": [
    {
     "name": "stdout",
     "output_type": "stream",
     "text": [
      "Recommended items for user 8 are: \n",
      "\n",
      "39732 Pitted Kalamata Olives\n",
      "39042 None\n",
      "8293 Lindor Milk Chocolate Truffles Pieces\n",
      "46337 Complete Iron System Mini Tabs\n",
      "16139 Clara\n",
      "35319 Paloma De Colores Mixed Popcorn\n",
      "25654 Mint Dark Chocolate Candy\n",
      "44015 Classic Citrus Kombucha\n",
      "2321 Orange Halo\n",
      "42569 Cinnamon Bun Sandwich Cookies\n"
     ]
    }
   ],
   "source": [
    "get_recommendations(collaborative_df, model3, user_items3, 8)"
   ]
  },
  {
   "cell_type": "code",
   "execution_count": null,
   "metadata": {},
   "outputs": [],
   "source": []
  },
  {
   "cell_type": "code",
   "execution_count": null,
   "metadata": {},
   "outputs": [],
   "source": []
  },
  {
   "cell_type": "code",
   "execution_count": null,
   "metadata": {},
   "outputs": [],
   "source": []
  },
  {
   "cell_type": "markdown",
   "metadata": {},
   "source": [
    "## Raw"
   ]
  },
  {
   "cell_type": "raw",
   "metadata": {},
   "source": [
    "model = implicit.als.AlternatingLeastSquares(factors=20, regularization=0.1, iterations=30)"
   ]
  },
  {
   "cell_type": "raw",
   "metadata": {},
   "source": [
    "alpha_val = 600\n",
    "data_conf = (collaborative_sparse * alpha_val).astype('double')\n",
    "model.fit(data_conf)"
   ]
  },
  {
   "cell_type": "raw",
   "metadata": {},
   "source": [
    "user_items = data_conf.T.tocsr()\n",
    "recommendations = model.recommend(1, user_items, filter_already_liked_items = False)"
   ]
  },
  {
   "cell_type": "raw",
   "metadata": {},
   "source": [
    "mydict = dict(zip(collaborative_df.product_id, collaborative_df.product_name))"
   ]
  },
  {
   "cell_type": "raw",
   "metadata": {},
   "source": [
    "for i in recommendations:\n",
    "    print(mydict.get(i[0]))"
   ]
  },
  {
   "cell_type": "raw",
   "metadata": {},
   "source": [
    "collaborative_df[collaborative_df['user_id'] == 1]"
   ]
  },
  {
   "cell_type": "raw",
   "metadata": {},
   "source": [
    "mydict.get(26303)"
   ]
  },
  {
   "cell_type": "raw",
   "metadata": {},
   "source": [
    "recommendations[1][0]"
   ]
  },
  {
   "cell_type": "raw",
   "metadata": {},
   "source": [
    "full_df[full_df['user_id'] == 1]"
   ]
  },
  {
   "cell_type": "raw",
   "metadata": {},
   "source": [
    "full_df[full_df['product_id'] == 18133]"
   ]
  },
  {
   "cell_type": "raw",
   "metadata": {},
   "source": [
    "# Similar users\n",
    "\n",
    "model.recommend(2, product_train)"
   ]
  },
  {
   "cell_type": "raw",
   "metadata": {},
   "source": [
    "# similar products\n",
    "\n",
    "model.similar_items(1992, 7)\n",
    "\n",
    "# find 7 most similar items to product 3847"
   ]
  },
  {
   "cell_type": "markdown",
   "metadata": {},
   "source": [
    "# test our recommender"
   ]
  },
  {
   "cell_type": "markdown",
   "metadata": {},
   "source": [
    "## Testing our recommender system"
   ]
  },
  {
   "cell_type": "raw",
   "metadata": {},
   "source": [
    "def make_train(ratings, pct_test = 0.2):\n",
    "    test_set = ratings.copy() # Make a copy of the original set to be the test set. \n",
    "    test_set[test_set != 0] = 1 # Store the test set as a binary preference matrix\n",
    "    training_set = ratings.copy() # Make a copy of the original data we can alter as our training set. \n",
    "    nonzero_inds = training_set.nonzero() # Find the indices in the ratings data where an interaction exists\n",
    "    nonzero_pairs = list(zip(nonzero_inds[0], nonzero_inds[1])) # Zip these pairs together of user,item index into list\n",
    "    random.seed(0) # Set the random seed to zero for reproducibility\n",
    "    num_samples = int(np.ceil(pct_test*len(nonzero_pairs))) # Round the number of samples needed to the nearest integer\n",
    "    samples = random.sample(nonzero_pairs, num_samples) # Sample a random number of user-item pairs without replacement\n",
    "    user_inds = [index[0] for index in samples] # Get the user row indices\n",
    "    item_inds = [index[1] for index in samples] # Get the item column indices\n",
    "    training_set[user_inds, item_inds] = 0 # Assign all of the randomly chosen user-item pairs to zero\n",
    "    training_set.eliminate_zeros() # Get rid of zeros in sparse array storage after update to save space\n",
    "    return training_set, test_set, list(set(user_inds)) # Output the unique list of user rows that were altered  "
   ]
  },
  {
   "cell_type": "markdown",
   "metadata": {},
   "source": [
    "This function will take in the original user-item matrix and \"mask\" a percentage of the original ratings where a\n",
    "user-item interaction has taken place for use as a test set. The test set will contain all of the original ratings, \n",
    "while the training set replaces the specified percentage of them with a zero in the original ratings matrix. \n",
    "\n",
    "parameters: \n",
    "\n",
    "ratings - the original ratings matrix from which you want to generate a train/test set. Test is just a complete\n",
    "copy of the original set. This is in the form of a sparse csr_matrix. \n",
    "\n",
    "pct_test - The percentage of user-item interactions where an interaction took place that you want to mask in the \n",
    "training set for later comparison to the test set, which contains all of the original ratings. \n",
    "\n",
    "returns:\n",
    "\n",
    "training_set - The altered version of the original data with a certain percentage of the user-item pairs \n",
    "that originally had interaction set back to zero.\n",
    "\n",
    "test_set - A copy of the original ratings matrix, unaltered, so it can be used to see how the rank order \n",
    "compares with the actual interactions.\n",
    "\n",
    "user_inds - From the randomly selected user-item indices, which user rows were altered in the training data.\n",
    "This will be necessary later when evaluating the performance via AUC."
   ]
  },
  {
   "cell_type": "raw",
   "metadata": {},
   "source": [
    "product_train, product_test, product_users_altered = make_train(collaborative_sparse, pct_test = 0.2)"
   ]
  },
  {
   "cell_type": "raw",
   "metadata": {},
   "source": [
    "alpha = 15\n",
    "user_vecs, item_vecs = implicit.alternating_least_squares((product_train*alpha).astype('double'), \n",
    "                                                          factors=20, \n",
    "                                                          regularization = 0.1, \n",
    "                                                         iterations = 50)"
   ]
  },
  {
   "cell_type": "raw",
   "metadata": {},
   "source": [
    "alpha = 15\n",
    "users_vecs, products_vecs = implicit.alternating_least_squares((product_train * alpha).astype('double'), factors = 20, regularization = 0.1, iterations = 10)"
   ]
  },
  {
   "cell_type": "raw",
   "metadata": {},
   "source": [
    "from sklearn import metrics"
   ]
  },
  {
   "cell_type": "markdown",
   "metadata": {},
   "source": [
    "This simple function will output the area under the curve using sklearn's metrics. \n",
    "\n",
    "parameters:\n",
    "\n",
    "- predictions: your prediction output\n",
    "\n",
    "- test: the actual target result you are comparing to\n",
    "\n",
    "returns:\n",
    "\n",
    "- AUC (area under the Receiver Operating Characterisic curve)"
   ]
  },
  {
   "cell_type": "raw",
   "metadata": {},
   "source": [
    "def auc_score(predictions, test):\n",
    "\n",
    "    fpr, tpr, thresholds = metrics.roc_curve(test, predictions)\n",
    "    return metrics.auc(fpr, tpr)   "
   ]
  },
  {
   "cell_type": "markdown",
   "metadata": {},
   "source": [
    "'''\n",
    "This function will calculate the mean AUC by user for any user that had their user-item matrix altered. \n",
    "\n",
    "parameters:\n",
    "\n",
    "training_set - The training set resulting from make_train, where a certain percentage of the original\n",
    "user/item interactions are reset to zero to hide them from the model \n",
    "\n",
    "predictions - The matrix of your predicted ratings for each user/item pair as output from the implicit MF.\n",
    "These should be stored in a list, with user vectors as item zero and item vectors as item one. \n",
    "\n",
    "altered_users - The indices of the users where at least one user/item pair was altered from make_train function\n",
    "\n",
    "test_set - The test set constucted earlier from make_train function\n",
    "\n",
    "\n",
    "\n",
    "returns:\n",
    "\n",
    "The mean AUC (area under the Receiver Operator Characteristic curve) of the test set only on user-item interactions\n",
    "there were originally zero to test ranking ability in addition to the most popular items as a benchmark.\n",
    "'''\n"
   ]
  },
  {
   "cell_type": "raw",
   "metadata": {},
   "source": [
    "def calc_mean_auc(training_set, altered_users, predictions, test_set):\n",
    "   \n",
    "    store_auc = [] # An empty list to store the AUC for each user that had an item removed from the training set\n",
    "    popularity_auc = [] # To store popular AUC scores\n",
    "    pop_items = np.array(test_set.sum(axis = 0)).reshape(-1) # Get sum of item iteractions to find most popular\n",
    "    item_vecs = predictions[1]\n",
    "    for user in altered_users: # Iterate through each user that had an item altered\n",
    "        training_row = training_set[user,:].toarray().reshape(-1) # Get the training set row\n",
    "        zero_inds = np.where(training_row == 0) # Find where the interaction had not yet occurred\n",
    "        # Get the predicted values based on our user/item vectors\n",
    "        user_vec = predictions[0][user,:]\n",
    "        pred = user_vec.dot(item_vecs).toarray()[0,zero_inds].reshape(-1)\n",
    "        # Get only the items that were originally zero\n",
    "        # Select all ratings from the MF prediction for this user that originally had no iteraction\n",
    "        actual = test_set[user,:].toarray()[0,zero_inds].reshape(-1) \n",
    "        # Select the binarized yes/no interaction pairs from the original full data\n",
    "        # that align with the same pairs in training \n",
    "        pop = pop_items[zero_inds] # Get the item popularity for our chosen items\n",
    "        store_auc.append(auc_score(pred, actual)) # Calculate AUC for the given user and store\n",
    "        popularity_auc.append(auc_score(pop, actual)) # Calculate AUC using most popular and score\n",
    "    # End users iteration\n",
    "    \n",
    "    return float('%.3f'%np.mean(store_auc)), float('%.3f'%np.mean(popularity_auc))  \n",
    "   # Return the mean AUC rounded to three decimal places for both test and popularity benchmark"
   ]
  },
  {
   "cell_type": "raw",
   "metadata": {},
   "source": [
    "from sklearn import metrics"
   ]
  },
  {
   "cell_type": "raw",
   "metadata": {},
   "source": [
    "calc_mean_auc(product_train, product_users_altered, \n",
    "              [sparse.csr_matrix(user_vecs), sparse.csr_matrix(item_vecs.T)], product_test)\n",
    "# AUC for our recommender system"
   ]
  },
  {
   "cell_type": "markdown",
   "metadata": {},
   "source": [
    "## Backup"
   ]
  },
  {
   "cell_type": "raw",
   "metadata": {},
   "source": [
    "def implicit_weighted_ALS(training_set, lambda_val = 0.1, alpha = 40, iterations = 10, rank_size = 20, seed = 0):\n",
    "\n",
    "    # first set up our confidence matrix\n",
    "    \n",
    "    conf = (alpha*training_set) # To allow the matrix to stay sparse, I will add one later when each row is taken \n",
    "                                # and converted to dense. \n",
    "    num_user = conf.shape[0]\n",
    "    num_item = conf.shape[1] # Get the size of our original ratings matrix, m x n\n",
    "    \n",
    "    # initialize our X/Y feature vectors randomly with a set seed\n",
    "    rstate = np.random.RandomState(seed)\n",
    "    \n",
    "    X = sparse.csr_matrix(rstate.normal(size = (num_user, rank_size))) # Random numbers in a m x rank shape\n",
    "    Y = sparse.csr_matrix(rstate.normal(size = (num_item, rank_size))) # Normally this would be rank x n but we can \n",
    "                                                                 # transpose at the end. Makes calculation more simple.\n",
    "    X_eye = sparse.eye(num_user)\n",
    "    Y_eye = sparse.eye(num_item)\n",
    "    lambda_eye = lambda_val * sparse.eye(rank_size) # Our regularization term lambda*I. \n",
    "    \n",
    "    # We can compute this before iteration starts. \n",
    "    \n",
    "    # Begin iterations\n",
    "   \n",
    "    for iter_step in range(iterations): # Iterate back and forth between solving X given fixed Y and vice versa\n",
    "        # Compute yTy and xTx at beginning of each iteration to save computing time\n",
    "        yTy = Y.T.dot(Y)\n",
    "        xTx = X.T.dot(X)\n",
    "        # Being iteration to solve for X based on fixed Y\n",
    "        for u in range(num_user):\n",
    "            conf_samp = conf[u,:].toarray() # Grab user row from confidence matrix and convert to dense\n",
    "            pref = conf_samp.copy() \n",
    "            pref[pref != 0] = 1 # Create binarized preference vector \n",
    "            CuI = sparse.diags(conf_samp, [0]) # Get Cu - I term, don't need to subtract 1 since we never added it \n",
    "            yTCuIY = Y.T.dot(CuI).dot(Y) # This is the yT(Cu-I)Y term \n",
    "            yTCupu = Y.T.dot(CuI + Y_eye).dot(pref.T) # This is the yTCuPu term, where we add the eye back in\n",
    "                                                      # Cu - I + I = Cu\n",
    "            X[u] = spsolve(yTy + yTCuIY + lambda_eye, yTCupu) \n",
    "            # Solve for Xu = ((yTy + yT(Cu-I)Y + lambda*I)^-1)yTCuPu, equation 4 from the paper  \n",
    "        # Begin iteration to solve for Y based on fixed X \n",
    "        for i in range(num_item):\n",
    "            conf_samp = conf[:,i].T.toarray() # transpose to get it in row format and convert to dense\n",
    "            pref = conf_samp.copy()\n",
    "            pref[pref != 0] = 1 # Create binarized preference vector\n",
    "            CiI = sparse.diags(conf_samp, [0]) # Get Ci - I term, don't need to subtract 1 since we never added it\n",
    "            xTCiIX = X.T.dot(CiI).dot(X) # This is the xT(Cu-I)X term\n",
    "            xTCiPi = X.T.dot(CiI + X_eye).dot(pref.T) # This is the xTCiPi term\n",
    "            Y[i] = spsolve(xTx + xTCiIX + lambda_eye, xTCiPi)\n",
    "            # Solve for Yi = ((xTx + xT(Cu-I)X) + lambda*I)^-1)xTCiPi, equation 5 from the paper\n",
    "    # End iterations\n",
    "    return X, Y.T # Transpose at the end to make up for not being transposed at the beginning. \n",
    "                         # Y needs to be rank x n. Keep these as separate matrices for scale reasons. "
   ]
  },
  {
   "cell_type": "markdown",
   "metadata": {},
   "source": [
    "Implicit weighted ALS taken from Hu, Koren, and Volinsky 2008. Designed for alternating least squares and implicit\n",
    "feedback based collaborative filtering. \n",
    "\n",
    "parameters:\n",
    "\n",
    "training_set - Our matrix of ratings with shape m x n, where m is the number of users and n is the number of items.\n",
    "Should be a sparse csr matrix to save space. \n",
    "\n",
    "lambda_val - Used for regularization during alternating least squares. Increasing this value may increase bias\n",
    "but decrease variance. Default is 0.1. \n",
    "\n",
    "alpha - The parameter associated with the confidence matrix discussed in the paper, where Cui = 1 + alpha*Rui. \n",
    "The paper found a default of 40 most effective. Decreasing this will decrease the variability in confidence between\n",
    "various ratings.\n",
    "\n",
    "iterations - The number of times to alternate between both user feature vector and item feature vector in\n",
    "alternating least squares. More iterations will allow better convergence at the cost of increased computation. \n",
    "The authors found 10 iterations was sufficient, but more may be required to converge. \n",
    "\n",
    "rank_size - The number of latent features in the user/item feature vectors. The paper recommends varying this \n",
    "between 20-200. Increasing the number of features may overfit but could reduce bias. \n",
    "\n",
    "seed - Set the seed for reproducible results\n",
    "\n",
    "returns:\n",
    "\n",
    "The feature vectors for users and items. The dot product of these feature vectors should give you the expected \n",
    "\"rating\" at each point in your original matrix. "
   ]
  },
  {
   "cell_type": "raw",
   "metadata": {},
   "source": [
    "user_vecs, item_vecs = implicit_weighted_ALS(product_train, lambda_val = 0.1, alpha = 15, iterations = 1,\n",
    "                                            rank_size = 20)"
   ]
  },
  {
   "cell_type": "raw",
   "metadata": {},
   "source": [
    "user_vecs[0,:].dot(item_vecs).toarray()[0,:5]"
   ]
  },
  {
   "cell_type": "raw",
   "metadata": {},
   "source": [
    "full_df.groupby(['user_id', 'product_name', 'product_id'])['product_name'].agg('count').to_frame('purchase_count').reset_index()"
   ]
  }
 ],
 "metadata": {
  "kernelspec": {
   "display_name": "Python 3",
   "language": "python",
   "name": "python3"
  },
  "language_info": {
   "codemirror_mode": {
    "name": "ipython",
    "version": 3
   },
   "file_extension": ".py",
   "mimetype": "text/x-python",
   "name": "python",
   "nbconvert_exporter": "python",
   "pygments_lexer": "ipython3",
   "version": "3.7.3"
  }
 },
 "nbformat": 4,
 "nbformat_minor": 2
}
